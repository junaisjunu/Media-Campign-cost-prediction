{
 "cells": [
  {
   "cell_type": "code",
   "execution_count": 1,
   "metadata": {},
   "outputs": [],
   "source": [
    "import os\n"
   ]
  },
  {
   "cell_type": "code",
   "execution_count": 4,
   "metadata": {},
   "outputs": [
    {
     "data": {
      "text/plain": [
       "'c:\\\\Users\\\\junu\\\\OneDrive\\\\Desktop\\\\ds\\\\MLOPS\\\\media_campign_cost_prediction\\\\branches\\\\basic-set-up\\\\Media-Campign-cost-prediction'"
      ]
     },
     "execution_count": 4,
     "metadata": {},
     "output_type": "execute_result"
    }
   ],
   "source": [
    "pwd"
   ]
  },
  {
   "cell_type": "code",
   "execution_count": 3,
   "metadata": {},
   "outputs": [],
   "source": [
    "os.chdir('../')"
   ]
  },
  {
   "cell_type": "code",
   "execution_count": 15,
   "metadata": {},
   "outputs": [],
   "source": [
    "from dataclasses import dataclass\n",
    "from pathlib import Path\n",
    "\n",
    "@dataclass\n",
    "class ModelTrainerConfig:\n",
    "    transformed_train_data: Path\n",
    "    model_trainer_root: Path\n",
    "    model_path: Path\n",
    "    params: str\n",
    "    target: str"
   ]
  },
  {
   "cell_type": "code",
   "execution_count": 22,
   "metadata": {},
   "outputs": [],
   "source": [
    "from src.constants import *\n",
    "from src.utils.common import read_yaml,create_directories,save_model\n",
    "\n",
    "class Configuration:\n",
    "    def __init__(self,config_path=CONFIG_FILE_PATH\n",
    "                      ,params_path=PARAMS_FILE_PATH\n",
    "                      ,schema_path=SCHEMA_FILE_PATH) -> None:\n",
    "        self.config=read_yaml(config_path)\n",
    "        self.params=read_yaml(params_path)\n",
    "        self.schema=read_yaml(schema_path)\n",
    "\n",
    "        create_directories([self.config.artifacts_root])\n",
    "\n",
    "    def get_model_trainer_config(self):\n",
    "        config=self.config.model_trainer\n",
    "        model_trainer_config=ModelTrainerConfig(\n",
    "            transformed_train_data=Path(config.transformed_train_data),\n",
    "            model_trainer_root= Path(config.model_trainer_root),\n",
    "            model_path= Path(config.model_path),\n",
    "            params=self.params,\n",
    "            target=config.target\n",
    "\n",
    "        )\n",
    "        return model_trainer_config\n",
    "\n",
    "    \n"
   ]
  },
  {
   "cell_type": "code",
   "execution_count": null,
   "metadata": {},
   "outputs": [],
   "source": [
    "import xgboost.XGB"
   ]
  },
  {
   "cell_type": "code",
   "execution_count": 7,
   "metadata": {},
   "outputs": [
    {
     "name": "stdout",
     "output_type": "stream",
     "text": [
      "Collecting xgboost\n",
      "  Using cached xgboost-2.0.3-py3-none-win_amd64.whl.metadata (2.0 kB)\n",
      "Requirement already satisfied: numpy in c:\\users\\junu\\anaconda3\\envs\\media\\lib\\site-packages (from xgboost) (1.24.4)\n",
      "Requirement already satisfied: scipy in c:\\users\\junu\\anaconda3\\envs\\media\\lib\\site-packages (from xgboost) (1.10.1)\n",
      "Using cached xgboost-2.0.3-py3-none-win_amd64.whl (99.8 MB)\n",
      "Installing collected packages: xgboost\n",
      "Successfully installed xgboost-2.0.3\n"
     ]
    }
   ],
   "source": [
    "!pip install xgboost"
   ]
  },
  {
   "cell_type": "code",
   "execution_count": 24,
   "metadata": {},
   "outputs": [],
   "source": [
    "import xgboost as xgb\n",
    "from src import logger\n",
    "import pandas as pd\n",
    "from src.utils.common import save_model,create_directories\n",
    "from src.excption.exception import customexception\n",
    "import sys\n",
    "from pathlib import Path\n",
    "\n",
    "\n",
    "\n",
    "class ModelTrainer:\n",
    "    def __init__(self,config: ModelTrainerConfig) -> None:\n",
    "        self.config=config\n",
    "\n",
    "    def initiate_model_training(self):\n",
    "        try:\n",
    "            create_directories([self.config.model_trainer_root])\n",
    "            params= self.config.params.xgboost\n",
    "            model= xgb.XGBRegressor(**params)\n",
    "\n",
    "            logger.info(model.get_params())\n",
    "            train_data=pd.read_csv(self.config.transformed_train_data)\n",
    "            X=train_data.drop(self.config.target,axis=1)\n",
    "            y=train_data[self.config.target]\n",
    "            logger.info(self.config.model_path)\n",
    "            model.fit(X,y)\n",
    "            save_model(model=model,path=self.config.model_path)\n",
    "            \n",
    "        except Exception as e:\n",
    "            raise customexception(e,sys)\n",
    "\n",
    "\n",
    "        \n",
    "\n"
   ]
  },
  {
   "cell_type": "code",
   "execution_count": 25,
   "metadata": {},
   "outputs": [
    {
     "name": "stdout",
     "output_type": "stream",
     "text": [
      "[2024-04-01 22:41:18,930: INFO: 19 : call: file loaded succesfully from the path config\\config.yaml]\n",
      "[2024-04-01 22:41:18,936: INFO: 19 : call: file loaded succesfully from the path params.yaml]\n",
      "[2024-04-01 22:41:18,940: INFO: 19 : call: file loaded succesfully from the path schema.yaml]\n",
      "[2024-04-01 22:41:18,943: INFO: 21 : call: {'objective': 'reg:squarederror', 'base_score': None, 'booster': 'gbtree', 'callbacks': None, 'colsample_bylevel': None, 'colsample_bynode': None, 'colsample_bytree': None, 'device': None, 'early_stopping_rounds': None, 'enable_categorical': False, 'eval_metric': 'rmse', 'feature_types': None, 'gamma': 3, 'grow_policy': None, 'importance_type': None, 'interaction_constraints': None, 'learning_rate': 0.3, 'max_bin': None, 'max_cat_threshold': None, 'max_cat_to_onehot': None, 'max_delta_step': None, 'max_depth': 6, 'max_leaves': None, 'min_child_weight': 2, 'missing': nan, 'monotone_constraints': None, 'multi_strategy': None, 'n_estimators': 40, 'n_jobs': None, 'num_parallel_tree': None, 'random_state': None, 'reg_alpha': None, 'reg_lambda': 1, 'sampling_method': None, 'scale_pos_weight': 4, 'subsample': None, 'tree_method': None, 'validate_parameters': None, 'verbosity': 2, 'alpha': 8}]\n",
      "[2024-04-01 22:41:19,427: INFO: 25 : call: artifacts\\model_trainer\\model.pkl]\n",
      "[2024-04-01 22:41:20,724: INFO: 54 : call: model saves successfully!]\n"
     ]
    }
   ],
   "source": [
    "config=Configuration()\n",
    "model_trainer_config=config.get_model_trainer_config()\n",
    "model_trainer=ModelTrainer(model_trainer_config)\n",
    "model_trainer.initiate_model_training()"
   ]
  },
  {
   "cell_type": "code",
   "execution_count": 25,
   "metadata": {},
   "outputs": [
    {
     "ename": "ImportError",
     "evalue": "cannot import name 'save_model' from 'src.utils.common' (c:\\Users\\junu\\OneDrive\\Desktop\\ds\\MLOPS\\media_campign_cost_prediction\\branches\\basic-set-up\\Media-Campign-cost-prediction\\src\\utils\\common.py)",
     "output_type": "error",
     "traceback": [
      "\u001b[1;31m---------------------------------------------------------------------------\u001b[0m",
      "\u001b[1;31mImportError\u001b[0m                               Traceback (most recent call last)",
      "Cell \u001b[1;32mIn[25], line 1\u001b[0m\n\u001b[1;32m----> 1\u001b[0m \u001b[38;5;28;01mfrom\u001b[39;00m \u001b[38;5;21;01msrc\u001b[39;00m\u001b[38;5;21;01m.\u001b[39;00m\u001b[38;5;21;01mutils\u001b[39;00m\u001b[38;5;21;01m.\u001b[39;00m\u001b[38;5;21;01mcommon\u001b[39;00m \u001b[38;5;28;01mimport\u001b[39;00m save_model\n",
      "\u001b[1;31mImportError\u001b[0m: cannot import name 'save_model' from 'src.utils.common' (c:\\Users\\junu\\OneDrive\\Desktop\\ds\\MLOPS\\media_campign_cost_prediction\\branches\\basic-set-up\\Media-Campign-cost-prediction\\src\\utils\\common.py)"
     ]
    }
   ],
   "source": [
    "from src.utils.common import save_model"
   ]
  },
  {
   "cell_type": "code",
   "execution_count": null,
   "metadata": {},
   "outputs": [],
   "source": []
  }
 ],
 "metadata": {
  "kernelspec": {
   "display_name": "media",
   "language": "python",
   "name": "python3"
  },
  "language_info": {
   "codemirror_mode": {
    "name": "ipython",
    "version": 3
   },
   "file_extension": ".py",
   "mimetype": "text/x-python",
   "name": "python",
   "nbconvert_exporter": "python",
   "pygments_lexer": "ipython3",
   "version": "3.8.0"
  }
 },
 "nbformat": 4,
 "nbformat_minor": 2
}
