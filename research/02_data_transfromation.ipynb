{
 "cells": [
  {
   "cell_type": "code",
   "execution_count": 1,
   "metadata": {},
   "outputs": [],
   "source": [
    "import os"
   ]
  },
  {
   "cell_type": "code",
   "execution_count": 2,
   "metadata": {},
   "outputs": [
    {
     "data": {
      "text/plain": [
       "'c:\\\\Users\\\\junu\\\\OneDrive\\\\Desktop\\\\ds\\\\MLOPS\\\\media_campign_cost_prediction\\\\branches\\\\basic-set-up\\\\Media-Campign-cost-prediction\\\\research'"
      ]
     },
     "execution_count": 2,
     "metadata": {},
     "output_type": "execute_result"
    }
   ],
   "source": [
    "pwd"
   ]
  },
  {
   "cell_type": "code",
   "execution_count": 3,
   "metadata": {},
   "outputs": [],
   "source": [
    "os.chdir('../')"
   ]
  },
  {
   "cell_type": "code",
   "execution_count": 9,
   "metadata": {},
   "outputs": [],
   "source": [
    "from dataclasses import dataclass\n",
    "from pathlib import Path\n",
    "\n",
    "@dataclass\n",
    "class DataTransformationConfig:\n",
    "    data_transformation_root: Path\n",
    "    data_path: Path\n",
    "    # transformed_data_path: Path\n",
    "    # target: str"
   ]
  },
  {
   "cell_type": "code",
   "execution_count": 10,
   "metadata": {},
   "outputs": [],
   "source": [
    "from src.constants import *\n",
    "from src.utils.common import read_yaml,create_directories\n",
    "\n",
    "class Configuration:\n",
    "    def __init__(self,config_path=CONFIG_FILE_PATH\n",
    "                      ,params_path=PARAMS_FILE_PATH\n",
    "                      ,schema_path=SCHEMA_FILE_PATH) -> None:\n",
    "        self.config=read_yaml(config_path)\n",
    "        self.params=read_yaml(params_path)\n",
    "        self.schema=read_yaml(schema_path)\n",
    "\n",
    "        create_directories([self.config.artifacts_root])\n",
    "\n",
    "    def get_data_transformation_config(self)-> DataTransformationConfig:\n",
    "        config=self.config.data_transformation\n",
    "        data_txm_config=DataTransformationConfig(\n",
    "            data_transformation_root=config.data_transformation_root,\n",
    "            data_path=config.data_path,\n",
    "            # transformed_data_path=config.transformed_data_path\n",
    "            # target=config.target\n",
    "        )\n",
    "\n",
    "        return data_txm_config\n",
    "\n",
    "        \n"
   ]
  },
  {
   "cell_type": "code",
   "execution_count": 1,
   "metadata": {},
   "outputs": [
    {
     "ename": "NameError",
     "evalue": "name 'DataTransformationConfig' is not defined",
     "output_type": "error",
     "traceback": [
      "\u001b[1;31m---------------------------------------------------------------------------\u001b[0m",
      "\u001b[1;31mNameError\u001b[0m                                 Traceback (most recent call last)",
      "Cell \u001b[1;32mIn[1], line 8\u001b[0m\n\u001b[0;32m      5\u001b[0m \u001b[38;5;28;01mfrom\u001b[39;00m \u001b[38;5;21;01msrc\u001b[39;00m \u001b[38;5;28;01mimport\u001b[39;00m logger\n\u001b[0;32m      6\u001b[0m \u001b[38;5;28;01mfrom\u001b[39;00m \u001b[38;5;21;01msrc\u001b[39;00m\u001b[38;5;21;01m.\u001b[39;00m\u001b[38;5;21;01mutils\u001b[39;00m\u001b[38;5;21;01m.\u001b[39;00m\u001b[38;5;21;01mcommon\u001b[39;00m \u001b[38;5;28;01mimport\u001b[39;00m create_directories\n\u001b[1;32m----> 8\u001b[0m \u001b[38;5;28;01mclass\u001b[39;00m \u001b[38;5;21;01mDataTransformation\u001b[39;00m:\n\u001b[0;32m      9\u001b[0m     \u001b[38;5;28;01mdef\u001b[39;00m \u001b[38;5;21m__init__\u001b[39m(\u001b[38;5;28mself\u001b[39m,data_txm_config:DataTransformationConfig) \u001b[38;5;241m-\u001b[39m\u001b[38;5;241m>\u001b[39m \u001b[38;5;28;01mNone\u001b[39;00m:\n\u001b[0;32m     10\u001b[0m         \u001b[38;5;28mself\u001b[39m\u001b[38;5;241m.\u001b[39mconfig\u001b[38;5;241m=\u001b[39mdata_txm_config\n",
      "Cell \u001b[1;32mIn[1], line 9\u001b[0m, in \u001b[0;36mDataTransformation\u001b[1;34m()\u001b[0m\n\u001b[0;32m      8\u001b[0m \u001b[38;5;28;01mclass\u001b[39;00m \u001b[38;5;21;01mDataTransformation\u001b[39;00m:\n\u001b[1;32m----> 9\u001b[0m     \u001b[38;5;28;01mdef\u001b[39;00m \u001b[38;5;21m__init__\u001b[39m(\u001b[38;5;28mself\u001b[39m,data_txm_config:\u001b[43mDataTransformationConfig\u001b[49m) \u001b[38;5;241m-\u001b[39m\u001b[38;5;241m>\u001b[39m \u001b[38;5;28;01mNone\u001b[39;00m:\n\u001b[0;32m     10\u001b[0m         \u001b[38;5;28mself\u001b[39m\u001b[38;5;241m.\u001b[39mconfig\u001b[38;5;241m=\u001b[39mdata_txm_config\n\u001b[0;32m     17\u001b[0m     \u001b[38;5;28;01mdef\u001b[39;00m \u001b[38;5;21mdata_transformation_for_training\u001b[39m(\u001b[38;5;28mself\u001b[39m):\n",
      "\u001b[1;31mNameError\u001b[0m: name 'DataTransformationConfig' is not defined"
     ]
    }
   ],
   "source": [
    "import pandas as pd\n",
    "from sklearn.model_selection import train_test_split\n",
    "from src.excption.exception import customexception\n",
    "import sys\n",
    "from src import logger\n",
    "from src.utils.common import create_directories\n",
    "\n",
    "class DataTransformation:\n",
    "    def __init__(self,data_txm_config:DataTransformationConfig) -> None:\n",
    "        self.config=data_txm_config\n",
    "\n",
    "    def data_transformation_for_training(self):\n",
    "        try:\n",
    "            logger.info(f\"Data transformation has started\")\n",
    "            data=pd.read_csv(self.config.data_path)\n",
    "            data=self.get_basic_transfomed_data(data)\n",
    "            # target=self.config.target\n",
    "            # X=data.drop(target,axis=1)\n",
    "            # y=data[target]\n",
    "            train,test = train_test_split(data, test_size=0.3, random_state=42)\n",
    "            logger.info(f\"train data shape{train.shape} and test data shape {test.shape}\")\n",
    "            create_directories([self.config.data_transformation_root])\n",
    "            train.to_csv(os.path.join(self.config.data_transformation_root,'train.csv'),index=False)\n",
    "            test.to_csv(os.path.join(self.config.data_transformation_root,'test.csv'),index=False)\n",
    "            logger.info(f\"data transformation completed successfully!\")\n",
    "\n",
    "            \n",
    "        except Exception as e:\n",
    "            raise customexception(e,sys)\n",
    "\n",
    "    \n",
    "    def data_transforamtion_for_prediction(self,data :pd.DataFrame):\n",
    "        data=self.get_basic_transfomed_data(data)\n",
    "        return data\n",
    "    \n",
    "    @staticmethod\n",
    "    def get_basic_transfomed_data(data: pd.DataFrame):\n",
    "        if 'id' in data.columns:\n",
    "            data=data.drop('id',axis=1)\n",
    "        data=data.dropna()\n",
    "        data=data.drop_duplicates()\n",
    "        return data\n",
    "\n",
    "\n",
    "\n",
    "\n",
    "\n",
    "\n"
   ]
  },
  {
   "cell_type": "code",
   "execution_count": 12,
   "metadata": {},
   "outputs": [],
   "source": [
    "class DataTransformationPipeline:\n",
    "    def __init__(self) -> None:\n",
    "        pass\n",
    "\n",
    "    def main(self):\n",
    "        config=Configuration()\n",
    "        data_txm_config=config.get_data_transformation_config()\n",
    "        data_txm=DataTransformation(data_txm_config=data_txm_config)\n",
    "        data_txm.data_transformation_for_training()\n",
    "        \n",
    "        \n",
    "         "
   ]
  },
  {
   "cell_type": "code",
   "execution_count": 13,
   "metadata": {},
   "outputs": [
    {
     "name": "stdout",
     "output_type": "stream",
     "text": [
      "[2024-03-31 20:36:18,766: INFO: 17 : call: file loaded succesfully from the path config\\config.yaml]\n",
      "[2024-03-31 20:36:18,772: INFO: 17 : call: file loaded succesfully from the path params.yaml]\n",
      "[2024-03-31 20:36:18,777: INFO: 17 : call: file loaded succesfully from the path schema.yaml]\n",
      "[2024-03-31 20:36:18,781: INFO: 23 : call: Data transformation has started]\n",
      "[2024-03-31 20:36:20,030: INFO: 30 : call: train data shape(252235, 16) and test data shape (108101, 16)]\n",
      "[2024-03-31 20:36:26,468: INFO: 34 : call: data transformation completed successfully!]\n"
     ]
    }
   ],
   "source": [
    "pipl=DataTransformationPipeline()\n",
    "pipl.main()"
   ]
  },
  {
   "cell_type": "code",
   "execution_count": null,
   "metadata": {},
   "outputs": [],
   "source": []
  }
 ],
 "metadata": {
  "kernelspec": {
   "display_name": "media",
   "language": "python",
   "name": "python3"
  },
  "language_info": {
   "codemirror_mode": {
    "name": "ipython",
    "version": 3
   },
   "file_extension": ".py",
   "mimetype": "text/x-python",
   "name": "python",
   "nbconvert_exporter": "python",
   "pygments_lexer": "ipython3",
   "version": "3.8.0"
  }
 },
 "nbformat": 4,
 "nbformat_minor": 2
}
