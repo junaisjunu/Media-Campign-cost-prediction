{
 "cells": [
  {
   "cell_type": "code",
   "execution_count": 1,
   "metadata": {},
   "outputs": [],
   "source": [
    "import os"
   ]
  },
  {
   "cell_type": "code",
   "execution_count": 2,
   "metadata": {},
   "outputs": [
    {
     "data": {
      "text/plain": [
       "'c:\\\\Users\\\\junu\\\\OneDrive\\\\Desktop\\\\ds\\\\MLOPS\\\\media_campign_cost_prediction\\\\branches\\\\basic-set-up\\\\Media-Campign-cost-prediction\\\\research'"
      ]
     },
     "execution_count": 2,
     "metadata": {},
     "output_type": "execute_result"
    }
   ],
   "source": [
    "pwd"
   ]
  },
  {
   "cell_type": "code",
   "execution_count": 3,
   "metadata": {},
   "outputs": [],
   "source": [
    "os.chdir(\"../\")"
   ]
  },
  {
   "cell_type": "code",
   "execution_count": null,
   "metadata": {},
   "outputs": [],
   "source": []
  },
  {
   "cell_type": "code",
   "execution_count": null,
   "metadata": {},
   "outputs": [],
   "source": []
  },
  {
   "cell_type": "code",
   "execution_count": null,
   "metadata": {},
   "outputs": [],
   "source": []
  },
  {
   "cell_type": "code",
   "execution_count": null,
   "metadata": {},
   "outputs": [],
   "source": []
  },
  {
   "cell_type": "code",
   "execution_count": null,
   "metadata": {},
   "outputs": [],
   "source": [
    "\n",
    "\n"
   ]
  },
  {
   "cell_type": "code",
   "execution_count": null,
   "metadata": {},
   "outputs": [],
   "source": []
  },
  {
   "cell_type": "code",
   "execution_count": null,
   "metadata": {},
   "outputs": [],
   "source": []
  },
  {
   "cell_type": "code",
   "execution_count": null,
   "metadata": {},
   "outputs": [],
   "source": []
  },
  {
   "cell_type": "code",
   "execution_count": null,
   "metadata": {},
   "outputs": [],
   "source": []
  },
  {
   "cell_type": "code",
   "execution_count": 4,
   "metadata": {},
   "outputs": [
    {
     "name": "stdout",
     "output_type": "stream",
     "text": [
      "Requirement already satisfied: gdown in c:\\users\\junu\\anaconda3\\envs\\media\\lib\\site-packages (5.1.0)\n",
      "Requirement already satisfied: beautifulsoup4 in c:\\users\\junu\\anaconda3\\envs\\media\\lib\\site-packages (from gdown) (4.12.3)\n",
      "Requirement already satisfied: filelock in c:\\users\\junu\\anaconda3\\envs\\media\\lib\\site-packages (from gdown) (3.13.3)\n",
      "Requirement already satisfied: requests[socks] in c:\\users\\junu\\anaconda3\\envs\\media\\lib\\site-packages (from gdown) (2.31.0)\n",
      "Requirement already satisfied: tqdm in c:\\users\\junu\\anaconda3\\envs\\media\\lib\\site-packages (from gdown) (4.66.2)\n",
      "Requirement already satisfied: soupsieve>1.2 in c:\\users\\junu\\anaconda3\\envs\\media\\lib\\site-packages (from beautifulsoup4->gdown) (2.5)\n",
      "Requirement already satisfied: charset-normalizer<4,>=2 in c:\\users\\junu\\anaconda3\\envs\\media\\lib\\site-packages (from requests[socks]->gdown) (3.3.2)\n",
      "Requirement already satisfied: idna<4,>=2.5 in c:\\users\\junu\\anaconda3\\envs\\media\\lib\\site-packages (from requests[socks]->gdown) (3.6)\n",
      "Requirement already satisfied: urllib3<3,>=1.21.1 in c:\\users\\junu\\anaconda3\\envs\\media\\lib\\site-packages (from requests[socks]->gdown) (2.2.1)\n",
      "Requirement already satisfied: certifi>=2017.4.17 in c:\\users\\junu\\anaconda3\\envs\\media\\lib\\site-packages (from requests[socks]->gdown) (2024.2.2)\n",
      "Requirement already satisfied: PySocks!=1.5.7,>=1.5.6 in c:\\users\\junu\\anaconda3\\envs\\media\\lib\\site-packages (from requests[socks]->gdown) (1.7.1)\n",
      "Requirement already satisfied: colorama in c:\\users\\junu\\anaconda3\\envs\\media\\lib\\site-packages (from tqdm->gdown) (0.4.6)\n"
     ]
    }
   ],
   "source": [
    "!pip install gdown"
   ]
  },
  {
   "cell_type": "code",
   "execution_count": 5,
   "metadata": {},
   "outputs": [
    {
     "name": "stderr",
     "output_type": "stream",
     "text": [
      "Downloading...\n",
      "From: https://drive.google.com/uc?id=1brmA-6b8Q2RwRcSIemgfj_kSEIlnOEEn\n",
      "To: c:\\Users\\junu\\OneDrive\\Desktop\\ds\\MLOPS\\media_campign_cost_prediction\\branches\\basic-set-up\\Media-Campign-cost-prediction\\dummy\\dd.csv\n",
      "100%|██████████| 28.8M/28.8M [00:04<00:00, 5.81MB/s]\n"
     ]
    },
    {
     "data": {
      "text/plain": [
       "'dummy/dd.csv'"
      ]
     },
     "execution_count": 5,
     "metadata": {},
     "output_type": "execute_result"
    }
   ],
   "source": [
    "import gdown\n",
    "\n",
    "gdown.download('https://drive.google.com/uc?id=1brmA-6b8Q2RwRcSIemgfj_kSEIlnOEEn','dummy/dd.csv')\n",
    "\n",
    "# https://drive.google.com/file/d/1brmA-6b8Q2RwRcSIemgfj_kSEIlnOEEn/view?usp=sharing"
   ]
  },
  {
   "cell_type": "code",
   "execution_count": 6,
   "metadata": {},
   "outputs": [],
   "source": [
    "data_url='https://drive.google.com/file/d/1brmA-6b8Q2RwRcSIemgfj_kSEIlnOEEn/view?usp=sharing'\n",
    "\n",
    "a=data_url.split('/')[-2]"
   ]
  },
  {
   "cell_type": "code",
   "execution_count": 7,
   "metadata": {},
   "outputs": [
    {
     "data": {
      "text/plain": [
       "'1brmA-6b8Q2RwRcSIemgfj_kSEIlnOEEn'"
      ]
     },
     "execution_count": 7,
     "metadata": {},
     "output_type": "execute_result"
    }
   ],
   "source": [
    "a"
   ]
  },
  {
   "cell_type": "code",
   "execution_count": 8,
   "metadata": {},
   "outputs": [],
   "source": [
    "from dataclasses import dataclass\n",
    "from pathlib import Path\n",
    "\n",
    "@dataclass\n",
    "class DataIngestionConfig:\n",
    "    data_ingestion_root : Path\n",
    "    data_url : str\n",
    "    data_path : Path\n"
   ]
  },
  {
   "cell_type": "code",
   "execution_count": 9,
   "metadata": {},
   "outputs": [
    {
     "ename": "NameError",
     "evalue": "name 'CONFIG_FILE_PATH' is not defined",
     "output_type": "error",
     "traceback": [
      "\u001b[1;31m---------------------------------------------------------------------------\u001b[0m",
      "\u001b[1;31mNameError\u001b[0m                                 Traceback (most recent call last)",
      "Cell \u001b[1;32mIn[9], line 1\u001b[0m\n\u001b[1;32m----> 1\u001b[0m \u001b[43mCONFIG_FILE_PATH\u001b[49m\n",
      "\u001b[1;31mNameError\u001b[0m: name 'CONFIG_FILE_PATH' is not defined"
     ]
    }
   ],
   "source": [
    "CONFIG_FILE_PATH"
   ]
  },
  {
   "cell_type": "code",
   "execution_count": 10,
   "metadata": {},
   "outputs": [],
   "source": [
    "from src.constants import *\n",
    "from src.utils.common import read_yaml,create_directories\n",
    "\n",
    "class Configuration:\n",
    "    def __init__(self,config_path=CONFIG_FILE_PATH\n",
    "                      ,params_path=PARAMS_FILE_PATH\n",
    "                      ,schema_path=SCHEMA_FILE_PATH) -> None:\n",
    "        self.config=read_yaml(config_path)\n",
    "        self.params=read_yaml(params_path)\n",
    "        self.schema=read_yaml(schema_path)\n",
    "\n",
    "        create_directories([self.config.artifacts_root])\n",
    "\n",
    "    def get_data_ingestion_config(self) -> DataIngestionConfig:\n",
    "        config=self.config.data_ingestion\n",
    "        data_ingestion_config=DataIngestionConfig(\n",
    "                            data_ingestion_root=config.data_ingestion_root,\n",
    "                            data_url=config.data_url,\n",
    "                            data_path=config.data_path\n",
    "                            )\n",
    "        \n",
    "        return data_ingestion_config\n",
    "\n",
    "\n",
    "        "
   ]
  },
  {
   "cell_type": "code",
   "execution_count": 15,
   "metadata": {},
   "outputs": [],
   "source": [
    "import gdown\n",
    "from src.utils.common import create_directories\n",
    "from src.excption.exception import customexception\n",
    "import sys\n",
    "from src import logger\n",
    "\n",
    "\n",
    "class DataIgestion:\n",
    "    def __init__(self,config: DataIngestionConfig) -> None:\n",
    "        self.config=config\n",
    "\n",
    "    def downlaod_data(self):\n",
    "        try:\n",
    "            # data_url=self.config.data_url\n",
    "            g_url='https://drive.google.com/uc?id='\n",
    "            id=self.config.data_url.split('/')[-2]\n",
    "            data_url=g_url+id\n",
    "            data_path=self.config.data_path\n",
    "            directory_path=self.config.data_ingestion_root\n",
    "            create_directories([directory_path])\n",
    "            gdown.download(data_url,data_path)\n",
    "            logger.info(f\"data downlaoded successfully\")\n",
    "\n",
    "        except Exception as e :\n",
    "            raise customexception(e,sys)\n",
    "\n",
    "        \n"
   ]
  },
  {
   "cell_type": "code",
   "execution_count": 16,
   "metadata": {},
   "outputs": [],
   "source": [
    "class DataIngestionPipeline:\n",
    "    def __init__(self) -> None:\n",
    "        pass\n",
    "\n",
    "    def data_ingestion_pipeline(self):\n",
    "        try:\n",
    "            config=Configuration()\n",
    "            data_ingestion_config=config.get_data_ingestion_config()\n",
    "            data_ing=DataIgestion(data_ingestion_config)\n",
    "            data_ing.downlaod_data()\n",
    "        except Exception as e:\n",
    "            raise customexception(e,sys)\n"
   ]
  },
  {
   "cell_type": "code",
   "execution_count": 17,
   "metadata": {},
   "outputs": [
    {
     "name": "stdout",
     "output_type": "stream",
     "text": [
      "[2024-03-31 13:08:12,328: INFO: 17 : call: file loaded succesfully from the path config\\config.yaml]\n",
      "[2024-03-31 13:08:12,332: INFO: 17 : call: file loaded succesfully from the path params.yaml]\n",
      "[2024-03-31 13:08:12,335: INFO: 17 : call: file loaded succesfully from the path schema.yaml]\n",
      "<traceback object at 0x000002951B883C00>\n",
      "<traceback object at 0x000002951B883AC0>\n"
     ]
    },
    {
     "ename": "customexception",
     "evalue": "Error occured in python script name [C:\\Users\\junu\\AppData\\Local\\Temp\\ipykernel_22224\\3192271893.py] line number [10] error message [Error occured in python script name [C:\\Users\\junu\\AppData\\Local\\Temp\\ipykernel_22224\\2498194812.py] line number [21] error message [module 'gdown' has no attribute 'downlaod']]",
     "output_type": "error",
     "traceback": [
      "\u001b[1;31m---------------------------------------------------------------------------\u001b[0m",
      "\u001b[1;31mAttributeError\u001b[0m                            Traceback (most recent call last)",
      "Cell \u001b[1;32mIn[15], line 21\u001b[0m, in \u001b[0;36mDataIgestion.downlaod_data\u001b[1;34m(self)\u001b[0m\n\u001b[0;32m     20\u001b[0m create_directories([directory_path])\n\u001b[1;32m---> 21\u001b[0m \u001b[43mgdown\u001b[49m\u001b[38;5;241;43m.\u001b[39;49m\u001b[43mdownlaod\u001b[49m(data_url,data_path)\n\u001b[0;32m     22\u001b[0m logger\u001b[38;5;241m.\u001b[39minfo(\u001b[38;5;124mf\u001b[39m\u001b[38;5;124m\"\u001b[39m\u001b[38;5;124mdata downlaoded successfully\u001b[39m\u001b[38;5;124m\"\u001b[39m)\n",
      "\u001b[1;31mAttributeError\u001b[0m: module 'gdown' has no attribute 'downlaod'",
      "\nDuring handling of the above exception, another exception occurred:\n",
      "\u001b[1;31mcustomexception\u001b[0m                           Traceback (most recent call last)",
      "Cell \u001b[1;32mIn[16], line 10\u001b[0m, in \u001b[0;36mDataIngestionPipeline.data_ingestion_pipeline\u001b[1;34m(self)\u001b[0m\n\u001b[0;32m      9\u001b[0m     data_ing\u001b[38;5;241m=\u001b[39mDataIgestion(data_ingestion_config)\n\u001b[1;32m---> 10\u001b[0m     \u001b[43mdata_ing\u001b[49m\u001b[38;5;241;43m.\u001b[39;49m\u001b[43mdownlaod_data\u001b[49m\u001b[43m(\u001b[49m\u001b[43m)\u001b[49m\n\u001b[0;32m     11\u001b[0m \u001b[38;5;28;01mexcept\u001b[39;00m \u001b[38;5;167;01mException\u001b[39;00m \u001b[38;5;28;01mas\u001b[39;00m e:\n",
      "Cell \u001b[1;32mIn[15], line 25\u001b[0m, in \u001b[0;36mDataIgestion.downlaod_data\u001b[1;34m(self)\u001b[0m\n\u001b[0;32m     24\u001b[0m \u001b[38;5;28;01mexcept\u001b[39;00m \u001b[38;5;167;01mException\u001b[39;00m \u001b[38;5;28;01mas\u001b[39;00m e :\n\u001b[1;32m---> 25\u001b[0m     \u001b[38;5;28;01mraise\u001b[39;00m customexception(e,sys)\n",
      "\u001b[1;31mcustomexception\u001b[0m: Error occured in python script name [C:\\Users\\junu\\AppData\\Local\\Temp\\ipykernel_22224\\2498194812.py] line number [21] error message [module 'gdown' has no attribute 'downlaod']",
      "\nDuring handling of the above exception, another exception occurred:\n",
      "\u001b[1;31mcustomexception\u001b[0m                           Traceback (most recent call last)",
      "Cell \u001b[1;32mIn[17], line 2\u001b[0m\n\u001b[0;32m      1\u001b[0m pipline\u001b[38;5;241m=\u001b[39mDataIngestionPipeline()\n\u001b[1;32m----> 2\u001b[0m \u001b[43mpipline\u001b[49m\u001b[38;5;241;43m.\u001b[39;49m\u001b[43mdata_ingestion_pipeline\u001b[49m\u001b[43m(\u001b[49m\u001b[43m)\u001b[49m\n",
      "Cell \u001b[1;32mIn[16], line 12\u001b[0m, in \u001b[0;36mDataIngestionPipeline.data_ingestion_pipeline\u001b[1;34m(self)\u001b[0m\n\u001b[0;32m     10\u001b[0m     data_ing\u001b[38;5;241m.\u001b[39mdownlaod_data()\n\u001b[0;32m     11\u001b[0m \u001b[38;5;28;01mexcept\u001b[39;00m \u001b[38;5;167;01mException\u001b[39;00m \u001b[38;5;28;01mas\u001b[39;00m e:\n\u001b[1;32m---> 12\u001b[0m     \u001b[38;5;28;01mraise\u001b[39;00m customexception(e,sys)\n",
      "\u001b[1;31mcustomexception\u001b[0m: Error occured in python script name [C:\\Users\\junu\\AppData\\Local\\Temp\\ipykernel_22224\\3192271893.py] line number [10] error message [Error occured in python script name [C:\\Users\\junu\\AppData\\Local\\Temp\\ipykernel_22224\\2498194812.py] line number [21] error message [module 'gdown' has no attribute 'downlaod']]"
     ]
    }
   ],
   "source": [
    "\n",
    "pipline=DataIngestionPipeline()\n",
    "pipline.data_ingestion_pipeline()"
   ]
  },
  {
   "cell_type": "code",
   "execution_count": null,
   "metadata": {},
   "outputs": [],
   "source": []
  }
 ],
 "metadata": {
  "kernelspec": {
   "display_name": "media",
   "language": "python",
   "name": "python3"
  },
  "language_info": {
   "codemirror_mode": {
    "name": "ipython",
    "version": 3
   },
   "file_extension": ".py",
   "mimetype": "text/x-python",
   "name": "python",
   "nbconvert_exporter": "python",
   "pygments_lexer": "ipython3",
   "version": "3.8.0"
  }
 },
 "nbformat": 4,
 "nbformat_minor": 2
}
