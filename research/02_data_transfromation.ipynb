{
 "cells": [
  {
   "cell_type": "code",
   "execution_count": 1,
   "metadata": {},
   "outputs": [],
   "source": [
    "import os"
   ]
  },
  {
   "cell_type": "code",
   "execution_count": 2,
   "metadata": {},
   "outputs": [
    {
     "data": {
      "text/plain": [
       "'c:\\\\Users\\\\junu\\\\OneDrive\\\\Desktop\\\\ds\\\\MLOPS\\\\media_campign_cost_prediction\\\\branches\\\\basic-set-up\\\\Media-Campign-cost-prediction\\\\research'"
      ]
     },
     "execution_count": 2,
     "metadata": {},
     "output_type": "execute_result"
    }
   ],
   "source": [
    "pwd"
   ]
  },
  {
   "cell_type": "code",
   "execution_count": 3,
   "metadata": {},
   "outputs": [],
   "source": [
    "os.chdir('../')"
   ]
  },
  {
   "cell_type": "code",
   "execution_count": 7,
   "metadata": {},
   "outputs": [],
   "source": [
    "from dataclasses import dataclass\n",
    "from pathlib import Path\n",
    "\n",
    "@dataclass\n",
    "class DataTransformationConfig:\n",
    "    data_transformation_root: Path\n",
    "    data_path: Path\n",
    "    transformed_data_path: Path\n",
    "    target: str"
   ]
  },
  {
   "cell_type": "code",
   "execution_count": 10,
   "metadata": {},
   "outputs": [],
   "source": [
    "from src.constants import *\n",
    "from src.utils.common import read_yaml,create_directories\n",
    "\n",
    "class Configuration:\n",
    "    def __init__(self,config_path=CONFIG_FILE_PATH\n",
    "                      ,params_path=PARAMS_FILE_PATH\n",
    "                      ,schema_path=SCHEMA_FILE_PATH) -> None:\n",
    "        self.config=read_yaml(config_path)\n",
    "        self.params=read_yaml(params_path)\n",
    "        self.schema=read_yaml(schema_path)\n",
    "\n",
    "        create_directories([self.config.artifacts_root])\n",
    "\n",
    "    def get_data_transformation_config(self)-> DataTransformationConfig:\n",
    "        config=self.config.data_transformation\n",
    "        data_txm_config=DataTransformationConfig(\n",
    "            data_transformation_root=config.data_transformation_root,\n",
    "            data_path=config.data_path,\n",
    "            transformed_data_path=config.transformed_data_path,\n",
    "            target=config.target\n",
    "        )\n",
    "\n",
    "        return data_txm_config\n",
    "\n",
    "        \n"
   ]
  },
  {
   "cell_type": "code",
   "execution_count": 17,
   "metadata": {},
   "outputs": [],
   "source": [
    "import pandas as pd\n",
    "from sklearn.model_selection import train_test_split\n",
    "from src.excption.exception import customexception\n",
    "import sys\n",
    "class DataTransformation:\n",
    "    def __init__(self,data_txm_config:DataTransformationConfig) -> None:\n",
    "        self.config=data_txm_config\n",
    "\n",
    "    def get_basic_transfomed_data(self,data: pd.DataFrame):\n",
    "        if 'id' in data.columns:\n",
    "            data=data.drop('id',axis=1)\n",
    "        data=data.dropna()\n",
    "        data=data.drop_duplicates()\n",
    "        return data\n",
    "\n",
    "        \n",
    "\n",
    "    def data_transformation_for_training(self):\n",
    "        try:\n",
    "            data=pd.read_csv(self.config.data_path)\n",
    "            data=self.get_basic_transfomed_data(data)\n",
    "            target=self.config.target\n",
    "            X=data.drop(target,axis=1)\n",
    "            y=data[target]\n",
    "            X_train, X_test, y_train, y_test = train_test_split(X, y, test_size=0.3, random_state=42)\n",
    "\n",
    "            return X_train, X_test, y_train, y_test\n",
    "        except Exception as e:\n",
    "            raise customexception(e,sys)\n",
    "\n",
    "    \n",
    "    def data_transforamtion_for_prediction(self,data :pd.DataFrame):\n",
    "        data=self.get_basic_transfomed_data(data)\n",
    "        return data\n",
    "\n",
    "\n",
    "\n",
    "\n",
    "\n",
    "\n"
   ]
  },
  {
   "cell_type": "code",
   "execution_count": 18,
   "metadata": {},
   "outputs": [],
   "source": [
    "class DataTransformationPipeline:\n",
    "    def __init__(self) -> None:\n",
    "        pass\n",
    "\n",
    "    def main(self):\n",
    "        config=Configuration()\n",
    "        data_txm_config=config.get_data_transformation_config()\n",
    "        data_txm=DataTransformation(data_txm_config=data_txm_config)\n",
    "        X_train, X_test, y_train, y_test=data_txm.data_transformation_for_training()\n",
    "        print(X_train.shape)\n",
    "        \n",
    "         "
   ]
  },
  {
   "cell_type": "code",
   "execution_count": 19,
   "metadata": {},
   "outputs": [
    {
     "name": "stdout",
     "output_type": "stream",
     "text": [
      "[2024-03-31 14:43:37,840: INFO: 17 : call: file loaded succesfully from the path config\\config.yaml]\n",
      "[2024-03-31 14:43:37,843: INFO: 17 : call: file loaded succesfully from the path params.yaml]\n",
      "[2024-03-31 14:43:37,856: INFO: 17 : call: file loaded succesfully from the path schema.yaml]\n",
      "(252235, 15)\n"
     ]
    }
   ],
   "source": [
    "pipl=DataTransformationPipeline()\n",
    "pipl.main()"
   ]
  },
  {
   "cell_type": "code",
   "execution_count": null,
   "metadata": {},
   "outputs": [],
   "source": []
  }
 ],
 "metadata": {
  "kernelspec": {
   "display_name": "media",
   "language": "python",
   "name": "python3"
  },
  "language_info": {
   "codemirror_mode": {
    "name": "ipython",
    "version": 3
   },
   "file_extension": ".py",
   "mimetype": "text/x-python",
   "name": "python",
   "nbconvert_exporter": "python",
   "pygments_lexer": "ipython3",
   "version": "3.8.0"
  }
 },
 "nbformat": 4,
 "nbformat_minor": 2
}
